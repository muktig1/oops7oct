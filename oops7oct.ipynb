{
 "cells": [
  {
   "cell_type": "code",
   "execution_count": null,
   "id": "cb861168-2b81-4be1-83d0-897663f579ea",
   "metadata": {},
   "outputs": [],
   "source": [
    "1.Bank Account Create a class representing a bank account with attributes like account number, account holder name, and balance.\n",
    "Implement methods to deposit and withdraw money from the accoun"
   ]
  },
  {
   "cell_type": "code",
   "execution_count": 1,
   "id": "b79667d5-4211-48dc-b617-3b75a001311a",
   "metadata": {
    "tags": []
   },
   "outputs": [
    {
     "name": "stdout",
     "output_type": "stream",
     "text": [
      "Deposited $500. New balance: $1500\n",
      "Withdrew $200. New balance: $1300\n",
      "Withdrew $1000. New balance: $300\n",
      "Final balance: $300\n"
     ]
    }
   ],
   "source": [
    "class BankAccount:\n",
    "    def __init__(self, account_number, account_holder_name, balance=0):\n",
    "        self.account_number = account_number\n",
    "        self.account_holder_name = account_holder_name\n",
    "        self.balance = balance\n",
    "\n",
    "    def deposit(self, amount):\n",
    "        if amount > 0:\n",
    "            self.balance += amount\n",
    "            print(f\"Deposited ${amount}. New balance: ${self.balance}\")\n",
    "        else:\n",
    "            print(\"Invalid deposit amount. Please enter a positive amount.\")\n",
    "\n",
    "    def withdraw(self, amount):\n",
    "        if amount > 0 and amount <= self.balance:\n",
    "            self.balance -= amount\n",
    "            print(f\"Withdrew ${amount}. New balance: ${self.balance}\")\n",
    "        else:\n",
    "            print(\"Invalid withdrawal amount. Please check your balance and enter a valid amount.\")\n",
    "\n",
    "    def get_balance(self):\n",
    "        return self.balance\n",
    "\n",
    "# Example usage\n",
    "if __name__ == \"__main__\":\n",
    "    # Creating a bank account\n",
    "    my_account = BankAccount(account_number=\"123456789\", account_holder_name=\"John Doe\", balance=1000)\n",
    "\n",
    "    # Performing transactions\n",
    "    my_account.deposit(500)\n",
    "    my_account.withdraw(200)\n",
    "    my_account.withdraw(1000)  # Invalid withdrawal\n",
    "\n",
    "    # Checking the final balance\n",
    "    final_balance = my_account.get_balance()\n",
    "    print(f\"Final balance: ${final_balance}\")\n"
   ]
  },
  {
   "cell_type": "code",
   "execution_count": null,
   "id": "3364899b-7e39-4923-821c-69c86f718e35",
   "metadata": {},
   "outputs": [],
   "source": [
    "2. Employee Management Create a class representing an employee with attributes like employee ID, name, and salary.\n",
    "Implement methods to calculate the yearly bonus and display employee details."
   ]
  },
  {
   "cell_type": "code",
   "execution_count": 2,
   "id": "b1a4fcf2-c0ff-4ea7-b29d-577c8a9f2209",
   "metadata": {
    "tags": []
   },
   "outputs": [
    {
     "name": "stdout",
     "output_type": "stream",
     "text": [
      "Initial Employee Details:\n",
      "Employee ID: E001\n",
      "Name: Alice\n",
      "Salary: $60,000.00\n",
      "\n",
      "Yearly Bonus (10.00%): $6,000.00\n",
      "\n",
      "Employee Details After Bonus:\n",
      "Employee ID: E001\n",
      "Name: Alice\n",
      "Salary: $66,000.00\n"
     ]
    }
   ],
   "source": [
    "class Employee:\n",
    "    def __init__(self, employee_id, name, salary):\n",
    "        self.employee_id = employee_id\n",
    "        self.name = name\n",
    "        self.salary = salary\n",
    "\n",
    "    def calculate_yearly_bonus(self, bonus_percentage):\n",
    "        if bonus_percentage >= 0:\n",
    "            bonus_amount = (bonus_percentage / 100) * self.salary\n",
    "            return bonus_amount\n",
    "        else:\n",
    "            return 0  # Invalid bonus percentage\n",
    "\n",
    "    def display_details(self):\n",
    "        print(\"Employee ID:\", self.employee_id)\n",
    "        print(\"Name:\", self.name)\n",
    "        print(\"Salary: ${:,.2f}\".format(self.salary))\n",
    "\n",
    "# Example usage\n",
    "if __name__ == \"__main__\":\n",
    "    # Creating an employee\n",
    "    emp1 = Employee(employee_id=\"E001\", name=\"Alice\", salary=60000)\n",
    "\n",
    "    # Displaying initial details\n",
    "    print(\"Initial Employee Details:\")\n",
    "    emp1.display_details()\n",
    "\n",
    "    # Calculating and displaying yearly bonus\n",
    "    bonus_percentage = 10\n",
    "    yearly_bonus = emp1.calculate_yearly_bonus(bonus_percentage)\n",
    "    print(\"\\nYearly Bonus ({:.2f}%): ${:,.2f}\".format(bonus_percentage, yearly_bonus))\n",
    "\n",
    "    # Displaying updated details after bonus\n",
    "    emp1.salary += yearly_bonus\n",
    "    print(\"\\nEmployee Details After Bonus:\")\n",
    "    emp1.display_details()\n"
   ]
  },
  {
   "cell_type": "code",
   "execution_count": null,
   "id": "bb55f66f-b181-459a-822a-4f4d56ae1f4e",
   "metadata": {},
   "outputs": [],
   "source": [
    "3.Vehicle Rental Create a class representing a vehicle rental system. Implement methods to rent a vehicle, return a vehicle, and display available vehicles."
   ]
  },
  {
   "cell_type": "code",
   "execution_count": 3,
   "id": "52aed00d-27ce-4143-9bc8-7b2cec06fcf0",
   "metadata": {
    "tags": []
   },
   "outputs": [
    {
     "name": "stdout",
     "output_type": "stream",
     "text": [
      "Available Vehicles:\n",
      "ID: V001, Type: Car, Status: available\n",
      "ID: V002, Type: Scooter, Status: available\n",
      "ID: V003, Type: Bike, Status: available\n",
      "Vehicle V001 rented successfully.\n",
      "Vehicle V001 returned successfully.\n",
      "Vehicle V001 rented successfully.\n",
      "Available Vehicles:\n",
      "ID: V002, Type: Scooter, Status: available\n",
      "ID: V003, Type: Bike, Status: available\n"
     ]
    }
   ],
   "source": [
    "class VehicleRentalSystem:\n",
    "    def __init__(self):\n",
    "        # Dictionary to store available vehicles with their status (rented or available)\n",
    "        self.available_vehicles = {}\n",
    "\n",
    "    def add_vehicle(self, vehicle_id, vehicle_type):\n",
    "        # Add a vehicle to the system with its initial status as available\n",
    "        self.available_vehicles[vehicle_id] = {\"type\": vehicle_type, \"status\": \"available\"}\n",
    "\n",
    "    def rent_vehicle(self, vehicle_id):\n",
    "        # Rent a vehicle if it's available, and update its status\n",
    "        if vehicle_id in self.available_vehicles and self.available_vehicles[vehicle_id][\"status\"] == \"available\":\n",
    "            self.available_vehicles[vehicle_id][\"status\"] = \"rented\"\n",
    "            print(f\"Vehicle {vehicle_id} rented successfully.\")\n",
    "        else:\n",
    "            print(f\"Vehicle {vehicle_id} is not available for rent.\")\n",
    "\n",
    "    def return_vehicle(self, vehicle_id):\n",
    "        # Return a rented vehicle and update its status to available\n",
    "        if vehicle_id in self.available_vehicles and self.available_vehicles[vehicle_id][\"status\"] == \"rented\":\n",
    "            self.available_vehicles[vehicle_id][\"status\"] = \"available\"\n",
    "            print(f\"Vehicle {vehicle_id} returned successfully.\")\n",
    "        else:\n",
    "            print(f\"Vehicle {vehicle_id} cannot be returned. Check the status.\")\n",
    "\n",
    "    def display_available_vehicles(self):\n",
    "        # Display the list of available vehicles\n",
    "        print(\"Available Vehicles:\")\n",
    "        for vehicle_id, details in self.available_vehicles.items():\n",
    "            if details[\"status\"] == \"available\":\n",
    "                print(f\"ID: {vehicle_id}, Type: {details['type']}, Status: {details['status']}\")\n",
    "\n",
    "# Example usage\n",
    "if __name__ == \"__main__\":\n",
    "    # Creating a vehicle rental system\n",
    "    rental_system = VehicleRentalSystem()\n",
    "\n",
    "    # Adding vehicles to the system\n",
    "    rental_system.add_vehicle(vehicle_id=\"V001\", vehicle_type=\"Car\")\n",
    "    rental_system.add_vehicle(vehicle_id=\"V002\", vehicle_type=\"Scooter\")\n",
    "    rental_system.add_vehicle(vehicle_id=\"V003\", vehicle_type=\"Bike\")\n",
    "\n",
    "    # Displaying available vehicles\n",
    "    rental_system.display_available_vehicles()\n",
    "\n",
    "    # Renting and returning vehicles\n",
    "    rental_system.rent_vehicle(vehicle_id=\"V001\")\n",
    "    rental_system.return_vehicle(vehicle_id=\"V001\")\n",
    "    rental_system.rent_vehicle(vehicle_id=\"V001\")  # Trying to rent the same vehicle again\n",
    "\n",
    "    # Displaying available vehicles after transactions\n",
    "    rental_system.display_available_vehicles()\n"
   ]
  },
  {
   "cell_type": "code",
   "execution_count": null,
   "id": "50b7fab5-db75-436c-8131-4a11a7601853",
   "metadata": {},
   "outputs": [],
   "source": [
    "4Library Catalog Create classes representing a library and a book. Implement methods to add books to the library, borrow books, and display available books."
   ]
  },
  {
   "cell_type": "code",
   "execution_count": 4,
   "id": "68e39c91-87b2-41f7-8339-59cb5f301368",
   "metadata": {
    "tags": []
   },
   "outputs": [
    {
     "name": "stdout",
     "output_type": "stream",
     "text": [
      "Book B001 added to the library.\n",
      "Book B002 added to the library.\n",
      "Book B003 added to the library.\n",
      "Available Books:\n",
      "ID: B001, Title: The Catcher in the Rye, Author: J.D. Salinger, Status: Available\n",
      "ID: B002, Title: To Kill a Mockingbird, Author: Harper Lee, Status: Available\n",
      "ID: B003, Title: 1984, Author: George Orwell, Status: Available\n",
      "Book B001 borrowed successfully.\n",
      "Book B001 is currently not available.\n",
      "Available Books:\n",
      "ID: B002, Title: To Kill a Mockingbird, Author: Harper Lee, Status: Available\n",
      "ID: B003, Title: 1984, Author: George Orwell, Status: Available\n"
     ]
    }
   ],
   "source": [
    "class Book:\n",
    "    def __init__(self, book_id, title, author):\n",
    "        self.book_id = book_id\n",
    "        self.title = title\n",
    "        self.author = author\n",
    "        self.is_available = True\n",
    "\n",
    "    def __str__(self):\n",
    "        return f\"ID: {self.book_id}, Title: {self.title}, Author: {self.author}, Status: {'Available' if self.is_available else 'Borrowed'}\"\n",
    "\n",
    "\n",
    "class Library:\n",
    "    def __init__(self):\n",
    "        # Dictionary to store books in the library\n",
    "        self.books = {}\n",
    "\n",
    "    def add_book(self, book_id, title, author):\n",
    "        # Add a book to the library with its initial status as available\n",
    "        if book_id not in self.books:\n",
    "            self.books[book_id] = Book(book_id, title, author)\n",
    "            print(f\"Book {book_id} added to the library.\")\n",
    "\n",
    "    def borrow_book(self, book_id):\n",
    "        # Borrow a book if it's available, and update its status\n",
    "        if book_id in self.books and self.books[book_id].is_available:\n",
    "            self.books[book_id].is_available = False\n",
    "            print(f\"Book {book_id} borrowed successfully.\")\n",
    "        elif book_id in self.books:\n",
    "            print(f\"Book {book_id} is currently not available.\")\n",
    "        else:\n",
    "            print(f\"Book {book_id} not found in the library.\")\n",
    "\n",
    "    def display_available_books(self):\n",
    "        # Display the list of available books in the library\n",
    "        print(\"Available Books:\")\n",
    "        for book_id, book in self.books.items():\n",
    "            if book.is_available:\n",
    "                print(book)\n",
    "\n",
    "# Example usage\n",
    "if __name__ == \"__main__\":\n",
    "    # Creating a library\n",
    "    library_system = Library()\n",
    "\n",
    "    # Adding books to the library\n",
    "    library_system.add_book(book_id=\"B001\", title=\"The Catcher in the Rye\", author=\"J.D. Salinger\")\n",
    "    library_system.add_book(book_id=\"B002\", title=\"To Kill a Mockingbird\", author=\"Harper Lee\")\n",
    "    library_system.add_book(book_id=\"B003\", title=\"1984\", author=\"George Orwell\")\n",
    "\n",
    "    # Displaying available books\n",
    "    library_system.display_available_books()\n",
    "\n",
    "    # Borrowing and displaying available books after transactions\n",
    "    library_system.borrow_book(book_id=\"B001\")\n",
    "    library_system.borrow_book(book_id=\"B001\")  # Trying to borrow the same book again\n",
    "    library_system.display_available_books()\n"
   ]
  },
  {
   "cell_type": "code",
   "execution_count": null,
   "id": "9dd4e907-5afb-4609-a0f2-2f629d2ea284",
   "metadata": {},
   "outputs": [],
   "source": [
    "5 Product Inventory Create classes representing a product and an inventory system. Implement methods to add products to the inventory, update product quantity,\n",
    "and display available products."
   ]
  },
  {
   "cell_type": "code",
   "execution_count": 5,
   "id": "b20431c0-5b94-427c-920a-51626dc8ac44",
   "metadata": {
    "tags": []
   },
   "outputs": [
    {
     "name": "stdout",
     "output_type": "stream",
     "text": [
      "Product P001 added to the inventory.\n",
      "Product P002 added to the inventory.\n",
      "Product P003 added to the inventory.\n",
      "Available Products:\n",
      "ID: P001, Name: Laptop, Price: $800.00, Quantity: 10\n",
      "ID: P002, Name: Smartphone, Price: $400.00, Quantity: 20\n",
      "ID: P003, Name: Headphones, Price: $50.00, Quantity: 30\n",
      "Quantity for Product P001 updated to 8.\n",
      "Product P004 not found in the inventory.\n",
      "Available Products:\n",
      "ID: P001, Name: Laptop, Price: $800.00, Quantity: 8\n",
      "ID: P002, Name: Smartphone, Price: $400.00, Quantity: 20\n",
      "ID: P003, Name: Headphones, Price: $50.00, Quantity: 30\n"
     ]
    }
   ],
   "source": [
    "class Product:\n",
    "    def __init__(self, product_id, name, price, quantity):\n",
    "        self.product_id = product_id\n",
    "        self.name = name\n",
    "        self.price = price\n",
    "        self.quantity = quantity\n",
    "\n",
    "    def __str__(self):\n",
    "        return f\"ID: {self.product_id}, Name: {self.name}, Price: ${self.price:.2f}, Quantity: {self.quantity}\"\n",
    "\n",
    "\n",
    "class InventorySystem:\n",
    "    def __init__(self):\n",
    "        # Dictionary to store products in the inventory\n",
    "        self.inventory = {}\n",
    "\n",
    "    def add_product(self, product_id, name, price, quantity):\n",
    "        # Add a product to the inventory\n",
    "        if product_id not in self.inventory:\n",
    "            self.inventory[product_id] = Product(product_id, name, price, quantity)\n",
    "            print(f\"Product {product_id} added to the inventory.\")\n",
    "\n",
    "    def update_quantity(self, product_id, new_quantity):\n",
    "        # Update the quantity of a product in the inventory\n",
    "        if product_id in self.inventory:\n",
    "            self.inventory[product_id].quantity = new_quantity\n",
    "            print(f\"Quantity for Product {product_id} updated to {new_quantity}.\")\n",
    "        else:\n",
    "            print(f\"Product {product_id} not found in the inventory.\")\n",
    "\n",
    "    def display_available_products(self):\n",
    "        # Display the list of available products in the inventory\n",
    "        print(\"Available Products:\")\n",
    "        for product_id, product in self.inventory.items():\n",
    "            print(product)\n",
    "\n",
    "# Example usage\n",
    "if __name__ == \"__main__\":\n",
    "    # Creating an inventory system\n",
    "    inventory_system = InventorySystem()\n",
    "\n",
    "    # Adding products to the inventory\n",
    "    inventory_system.add_product(product_id=\"P001\", name=\"Laptop\", price=800.0, quantity=10)\n",
    "    inventory_system.add_product(product_id=\"P002\", name=\"Smartphone\", price=400.0, quantity=20)\n",
    "    inventory_system.add_product(product_id=\"P003\", name=\"Headphones\", price=50.0, quantity=30)\n",
    "\n",
    "    # Displaying available products\n",
    "    inventory_system.display_available_products()\n",
    "\n",
    "    # Updating product quantity and displaying available products after transactions\n",
    "    inventory_system.update_quantity(product_id=\"P001\", new_quantity=8)\n",
    "    inventory_system.update_quantity(product_id=\"P004\", new_quantity=15)  # Trying to update quantity for non-existing product\n",
    "    inventory_system.display_available_products()\n"
   ]
  },
  {
   "cell_type": "code",
   "execution_count": null,
   "id": "6b139bdd-5b92-4bb8-a358-0e6615a02e4f",
   "metadata": {},
   "outputs": [],
   "source": [
    "6Shape Calculation Create a class representing a shape with attributes like length, width, and height.\n",
    "Implement methods to calculate the area and perimeter of the shape."
   ]
  },
  {
   "cell_type": "code",
   "execution_count": 6,
   "id": "e526472f-b7a0-4445-a632-d634a9d5ae6c",
   "metadata": {
    "tags": []
   },
   "outputs": [
    {
     "name": "stdout",
     "output_type": "stream",
     "text": [
      "Rectangle - Area: 15 Perimeter: 16\n",
      "Square - Area: 16 Perimeter: 16\n",
      "Circle - Area: 12.566370614359172 Circumference: 12.566370614359172\n"
     ]
    }
   ],
   "source": [
    "class Shape:\n",
    "    def __init__(self, length=None, width=None, height=None):\n",
    "        self.length = length\n",
    "        self.width = width\n",
    "        self.height = height\n",
    "\n",
    "    def calculate_area(self):\n",
    "        raise NotImplementedError(\"Subclasses must implement the calculate_area method.\")\n",
    "\n",
    "    def calculate_perimeter(self):\n",
    "        raise NotImplementedError(\"Subclasses must implement the calculate_perimeter method.\")\n",
    "\n",
    "\n",
    "class Rectangle(Shape):\n",
    "    def calculate_area(self):\n",
    "        return self.length * self.width\n",
    "\n",
    "    def calculate_perimeter(self):\n",
    "        return 2 * (self.length + self.width)\n",
    "\n",
    "\n",
    "class Square(Rectangle):\n",
    "    def __init__(self, side_length):\n",
    "        super().__init__(length=side_length, width=side_length)\n",
    "\n",
    "    # No need to override calculate_area and calculate_perimeter as they are inherited from Rectangle\n",
    "\n",
    "\n",
    "class Circle(Shape):\n",
    "    def __init__(self, radius):\n",
    "        super().__init__(length=radius)\n",
    "\n",
    "    def calculate_area(self):\n",
    "        import math\n",
    "        return math.pi * self.length**2\n",
    "\n",
    "    def calculate_perimeter(self):\n",
    "        import math\n",
    "        return 2 * math.pi * self.length\n",
    "\n",
    "\n",
    "# Example usage\n",
    "if __name__ == \"__main__\":\n",
    "    # Creating shapes\n",
    "    rectangle = Rectangle(length=5, width=3)\n",
    "    square = Square(side_length=4)\n",
    "    circle = Circle(radius=2)\n",
    "\n",
    "    # Calculating and displaying area and perimeter\n",
    "    print(\"Rectangle - Area:\", rectangle.calculate_area(), \"Perimeter:\", rectangle.calculate_perimeter())\n",
    "    print(\"Square - Area:\", square.calculate_area(), \"Perimeter:\", square.calculate_perimeter())\n",
    "    print(\"Circle - Area:\", circle.calculate_area(), \"Circumference:\", circle.calculate_perimeter())\n"
   ]
  },
  {
   "cell_type": "code",
   "execution_count": null,
   "id": "ec16e8a6-22bd-4a77-bf36-cde13870aa27",
   "metadata": {},
   "outputs": [],
   "source": [
    "7 student Management Create a class representing a student with attributes like student ID, name, and grades. \n",
    "Implement methods to calculate the average grade and display student details."
   ]
  },
  {
   "cell_type": "code",
   "execution_count": 7,
   "id": "18b28ec2-a5c7-4da8-8f0e-9653f80a9881",
   "metadata": {
    "tags": []
   },
   "outputs": [
    {
     "name": "stdout",
     "output_type": "stream",
     "text": [
      "Student 1 Details:\n",
      "Student ID: S001\n",
      "Name: Alice\n",
      "Grades: [85, 90, 78, 92, 88]\n",
      "Average Grade: 86.60\n",
      "\n",
      "Student 2 Details:\n",
      "Student ID: S002\n",
      "Name: Bob\n",
      "Grades: [75, 82, 90, 79, 88, 94]\n",
      "Average Grade: 84.67\n"
     ]
    }
   ],
   "source": [
    "class Student:\n",
    "    def __init__(self, student_id, name, grades):\n",
    "        self.student_id = student_id\n",
    "        self.name = name\n",
    "        self.grades = grades\n",
    "\n",
    "    def calculate_average_grade(self):\n",
    "        if self.grades:\n",
    "            return sum(self.grades) / len(self.grades)\n",
    "        else:\n",
    "            return 0\n",
    "\n",
    "    def display_student_details(self):\n",
    "        print(f\"Student ID: {self.student_id}\")\n",
    "        print(f\"Name: {self.name}\")\n",
    "        print(f\"Grades: {self.grades}\")\n",
    "        print(f\"Average Grade: {self.calculate_average_grade():.2f}\")\n",
    "\n",
    "\n",
    "# Example usage\n",
    "if __name__ == \"__main__\":\n",
    "    # Creating a student\n",
    "    student1 = Student(student_id=\"S001\", name=\"Alice\", grades=[85, 90, 78, 92, 88])\n",
    "    student2 = Student(student_id=\"S002\", name=\"Bob\", grades=[75, 82, 90, 79, 88, 94])\n",
    "\n",
    "    # Displaying student details\n",
    "    print(\"Student 1 Details:\")\n",
    "    student1.display_student_details()\n",
    "    print(\"\\nStudent 2 Details:\")\n",
    "    student2.display_student_details()\n"
   ]
  },
  {
   "cell_type": "code",
   "execution_count": null,
   "id": "75eb013f-5d43-4963-bfd3-651e328ed3ba",
   "metadata": {},
   "outputs": [],
   "source": [
    "8Email Management Create a class representing an email with attributes like sender, recipient, and subject.\n",
    "Implement methods to send an email and display email details."
   ]
  },
  {
   "cell_type": "code",
   "execution_count": 8,
   "id": "3e26b572-4ff9-45c8-ab11-105faef09c95",
   "metadata": {
    "tags": []
   },
   "outputs": [
    {
     "name": "stdout",
     "output_type": "stream",
     "text": [
      "Email Details:\n",
      "Sender: sender@example.com\n",
      "Recipient: recipient@example.com\n",
      "Subject: Hello\n",
      "Body: This is the email body.\n",
      "Status: Not Sent\n",
      "Email sent from sender@example.com to recipient@example.com\n",
      "Email Details:\n",
      "Sender: sender@example.com\n",
      "Recipient: recipient@example.com\n",
      "Subject: Hello\n",
      "Body: This is the email body.\n",
      "Status: Sent\n"
     ]
    }
   ],
   "source": [
    "class Email:\n",
    "    def __init__(self, sender, recipient, subject, body):\n",
    "        self.sender = sender\n",
    "        self.recipient = recipient\n",
    "        self.subject = subject\n",
    "        self.body = body\n",
    "        self.is_sent = False\n",
    "\n",
    "    def send_email(self):\n",
    "        # Simulate sending the email\n",
    "        print(f\"Email sent from {self.sender} to {self.recipient}\")\n",
    "\n",
    "        # Mark the email as sent\n",
    "        self.is_sent = True\n",
    "\n",
    "    def display_email_details(self):\n",
    "        print(\"Email Details:\")\n",
    "        print(f\"Sender: {self.sender}\")\n",
    "        print(f\"Recipient: {self.recipient}\")\n",
    "        print(f\"Subject: {self.subject}\")\n",
    "        print(f\"Body: {self.body}\")\n",
    "        print(f\"Status: {'Sent' if self.is_sent else 'Not Sent'}\")\n",
    "\n",
    "\n",
    "# Example usage\n",
    "if __name__ == \"__main__\":\n",
    "    # Creating an email\n",
    "    email = Email(sender=\"sender@example.com\", recipient=\"recipient@example.com\", subject=\"Hello\", body=\"This is the email body.\")\n",
    "\n",
    "    # Displaying email details before sending\n",
    "    email.display_email_details()\n",
    "\n",
    "    # Sending the email\n",
    "    email.send_email()\n",
    "\n",
    "    # Displaying email details after sending\n",
    "    email.display_email_details()\n"
   ]
  },
  {
   "cell_type": "code",
   "execution_count": null,
   "id": "86c75137-f4c8-405d-bc66-b5cce511cc2c",
   "metadata": {},
   "outputs": [],
   "source": [
    "9 Social Media Profile Create a class representing a social media profile with attributes like username and posts. Implement methods to add posts,\n",
    "display posts, and search for posts by keyword"
   ]
  },
  {
   "cell_type": "code",
   "execution_count": 9,
   "id": "5b22862e-2cfd-43ae-a8f2-9b543728ee85",
   "metadata": {
    "tags": []
   },
   "outputs": [
    {
     "name": "stdout",
     "output_type": "stream",
     "text": [
      "Post added to JohnDoe's profile.\n",
      "Post added to JohnDoe's profile.\n",
      "Post added to JohnDoe's profile.\n",
      "JohnDoe's Posts:\n",
      "1. Enjoying a beautiful day at the park!\n",
      "2. Just finished reading a great book.\n",
      "3. Trying out a new recipe for dinner.\n",
      "Posts containing 'book':\n",
      "1. Just finished reading a great book.\n",
      "No posts found containing 'travel'.\n"
     ]
    }
   ],
   "source": [
    "class SocialMediaProfile:\n",
    "    def __init__(self, username):\n",
    "        self.username = username\n",
    "        self.posts = []\n",
    "\n",
    "    def add_post(self, content):\n",
    "        # Add a post to the profile\n",
    "        self.posts.append(content)\n",
    "        print(f\"Post added to {self.username}'s profile.\")\n",
    "\n",
    "    def display_posts(self):\n",
    "        # Display all posts in the profile\n",
    "        print(f\"{self.username}'s Posts:\")\n",
    "        for i, post in enumerate(self.posts, start=1):\n",
    "            print(f\"{i}. {post}\")\n",
    "\n",
    "    def search_posts(self, keyword):\n",
    "        # Search for posts containing the specified keyword\n",
    "        matching_posts = [post for post in self.posts if keyword.lower() in post.lower()]\n",
    "\n",
    "        if matching_posts:\n",
    "            print(f\"Posts containing '{keyword}':\")\n",
    "            for i, post in enumerate(matching_posts, start=1):\n",
    "                print(f\"{i}. {post}\")\n",
    "        else:\n",
    "            print(f\"No posts found containing '{keyword}'.\")\n",
    "\n",
    "# Example usage\n",
    "if __name__ == \"__main__\":\n",
    "    # Creating a social media profile\n",
    "    profile = SocialMediaProfile(username=\"JohnDoe\")\n",
    "\n",
    "    # Adding posts to the profile\n",
    "    profile.add_post(\"Enjoying a beautiful day at the park!\")\n",
    "    profile.add_post(\"Just finished reading a great book.\")\n",
    "    profile.add_post(\"Trying out a new recipe for dinner.\")\n",
    "\n",
    "    # Displaying all posts in the profile\n",
    "    profile.display_posts()\n",
    "\n",
    "    # Searching for posts containing a keyword\n",
    "    profile.search_posts(keyword=\"book\")\n",
    "    profile.search_posts(keyword=\"travel\")\n"
   ]
  },
  {
   "cell_type": "code",
   "execution_count": null,
   "id": "27e3f291-be7c-4b18-ba54-cda05af7fdaf",
   "metadata": {},
   "outputs": [],
   "source": [
    "10 ToDo List Create a class representing a ToDo list with attributes like tasks and due dates. Implement methods to add tasks, mark tasks \n",
    "as completed, and display pending tasks."
   ]
  },
  {
   "cell_type": "code",
   "execution_count": 10,
   "id": "fd5ad9f6-75f1-484e-b322-c809a0b9244d",
   "metadata": {
    "tags": []
   },
   "outputs": [
    {
     "name": "stdout",
     "output_type": "stream",
     "text": [
      "Task 'Complete project' added to the ToDo list with due date 2022-03-15.\n",
      "Task 'Prepare presentation' added to the ToDo list with due date 2022-03-20.\n",
      "Task 'Exercise' added to the ToDo list with due date 2022-03-10.\n",
      "Pending Tasks:\n",
      "Complete project (Due Date: 2022-03-15)\n",
      "Prepare presentation (Due Date: 2022-03-20)\n",
      "Exercise (Due Date: 2022-03-10)\n",
      "Task 'Exercise' marked as completed.\n",
      "Pending Tasks:\n",
      "Complete project (Due Date: 2022-03-15)\n",
      "Prepare presentation (Due Date: 2022-03-20)\n"
     ]
    }
   ],
   "source": [
    "class ToDoList:\n",
    "    def __init__(self):\n",
    "        self.tasks = {}\n",
    "\n",
    "    def add_task(self, task, due_date):\n",
    "        # Add a task to the ToDo list\n",
    "        if task not in self.tasks:\n",
    "            self.tasks[task] = due_date\n",
    "            print(f\"Task '{task}' added to the ToDo list with due date {due_date}.\")\n",
    "        else:\n",
    "            print(f\"Task '{task}' already exists in the ToDo list.\")\n",
    "\n",
    "    def mark_completed(self, task):\n",
    "        # Mark a task as completed\n",
    "        if task in self.tasks:\n",
    "            del self.tasks[task]\n",
    "            print(f\"Task '{task}' marked as completed.\")\n",
    "        else:\n",
    "            print(f\"Task '{task}' not found in the ToDo list.\")\n",
    "\n",
    "    def display_pending_tasks(self):\n",
    "        # Display pending tasks in the ToDo list\n",
    "        if self.tasks:\n",
    "            print(\"Pending Tasks:\")\n",
    "            for task, due_date in self.tasks.items():\n",
    "                print(f\"{task} (Due Date: {due_date})\")\n",
    "        else:\n",
    "            print(\"No pending tasks in the ToDo list.\")\n",
    "\n",
    "# Example usage\n",
    "if __name__ == \"__main__\":\n",
    "    # Creating a ToDo list\n",
    "    todo_list = ToDoList()\n",
    "\n",
    "    # Adding tasks to the ToDo list\n",
    "    todo_list.add_task(task=\"Complete project\", due_date=\"2022-03-15\")\n",
    "    todo_list.add_task(task=\"Prepare presentation\", due_date=\"2022-03-20\")\n",
    "    todo_list.add_task(task=\"Exercise\", due_date=\"2022-03-10\")\n",
    "\n",
    "    # Displaying pending tasks\n",
    "    todo_list.display_pending_tasks()\n",
    "\n",
    "    # Marking a task as completed\n",
    "    todo_list.mark_completed(task=\"Exercise\")\n",
    "\n",
    "    # Displaying pending tasks after marking a task as completed\n",
    "    todo_list.display_pending_tasks()\n"
   ]
  }
 ],
 "metadata": {
  "kernelspec": {
   "display_name": "Python 3 (ipykernel)",
   "language": "python",
   "name": "python3"
  },
  "language_info": {
   "codemirror_mode": {
    "name": "ipython",
    "version": 3
   },
   "file_extension": ".py",
   "mimetype": "text/x-python",
   "name": "python",
   "nbconvert_exporter": "python",
   "pygments_lexer": "ipython3",
   "version": "3.11.5"
  }
 },
 "nbformat": 4,
 "nbformat_minor": 5
}
